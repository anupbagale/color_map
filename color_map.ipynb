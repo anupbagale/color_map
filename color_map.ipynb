{
  "nbformat": 4,
  "nbformat_minor": 0,
  "metadata": {
    "colab": {
      "provenance": [],
      "authorship_tag": "ABX9TyPT14xvmqcVyc5KJhsiZ1Iu",
      "include_colab_link": true
    },
    "kernelspec": {
      "name": "python3",
      "display_name": "Python 3"
    },
    "language_info": {
      "name": "python"
    }
  },
  "cells": [
    {
      "cell_type": "markdown",
      "metadata": {
        "id": "view-in-github",
        "colab_type": "text"
      },
      "source": [
        "<a href=\"https://colab.research.google.com/github/anupbagale/color_map/blob/main/color_map.ipynb\" target=\"_parent\"><img src=\"https://colab.research.google.com/assets/colab-badge.svg\" alt=\"Open In Colab\"/></a>"
      ]
    },
    {
      "cell_type": "code",
      "source": [
        "import numpy as np\n",
        "import matplotlib.pyplot as plt\n",
        "from matplotlib.colors import ListedColormap"
      ],
      "metadata": {
        "id": "fV_1JMCGcGtz"
      },
      "execution_count": 31,
      "outputs": []
    },
    {
      "cell_type": "code",
      "source": [
        "#defining the RGB values\n",
        "#I have defined 45 values of RGB\n",
        "colors_map = (1/255) * np.array([\n",
        "    [0, 0, 0], [245, 245, 245], [205, 62, 78], [120, 18, 134], [196, 58, 250],\n",
        "    [220, 248, 164], [230, 148, 34], [0, 118, 14], [122, 186, 220], [236, 13, 176],\n",
        "    [12, 48, 255], [204, 182, 142], [42, 204, 164], [119, 159, 176], [220, 216, 20],\n",
        "    [103, 255, 255], [60, 60, 60], [255, 165, 0], [165, 42, 42], [160, 32, 240],\n",
        "    [0, 200, 200], [245, 245, 245], [205, 62, 78], [120, 18, 134], [196, 58, 250],\n",
        "    [220, 248, 164], [230, 148, 34], [0, 118, 14], [122, 186, 220], [236, 13, 176],\n",
        "    [13, 48, 255], [220, 216, 20], [103, 255, 255], [255, 165, 0], [165, 42, 42],\n",
        "    [160, 32, 240], [0, 200, 221], [200, 70, 255], [164, 108, 226], [234, 169, 30],\n",
        "    [0, 0, 64], [0, 0, 112], [0, 0, 160], [0, 0, 208], [0, 0, 255]\n",
        "])\n",
        "\n",
        "clr_m = ListedColormap(colors_map)\n",
        "# .set_bad --> sets the color and transparency for \"bad\" (invalid) values in the colormap\n",
        "clr_m.set_bad(color='w', alpha=0) # white and full transparent\n"
      ],
      "metadata": {
        "id": "ZpF7cXX2XIzd"
      },
      "execution_count": 33,
      "outputs": []
    },
    {
      "cell_type": "code",
      "source": [
        "# Visualize\n",
        "fig, ax = plt.subplots(figsize=(8, 1))\n",
        "fig.subplots_adjust(bottom=0.5)\n",
        "\n",
        "cbar = fig.colorbar(\n",
        "    plt.cm.ScalarMappable(cmap=clr_m),\n",
        "    cax=ax, orientation='horizontal', ticks=[0, 1]\n",
        ")\n",
        "cbar.ax.set_xticklabels(['Min', 'Max'])\n",
        "plt.show()"
      ],
      "metadata": {
        "colab": {
          "base_uri": "https://localhost:8080/",
          "height": 98
        },
        "id": "7zGFodCUZquD",
        "outputId": "b6ff064c-1ec6-42dc-96c6-96a5e3e24818"
      },
      "execution_count": 34,
      "outputs": [
        {
          "output_type": "display_data",
          "data": {
            "text/plain": [
              "<Figure size 800x100 with 1 Axes>"
            ],
            "image/png": "[encoded data removed]"
          },
          "metadata": {}
        }
      ]
    },
    {
      "cell_type": "code",
      "source": [],
      "metadata": {
        "id": "GELtCx4ncaq5"
      },
      "execution_count": null,
      "outputs": []
    }
  ]
}